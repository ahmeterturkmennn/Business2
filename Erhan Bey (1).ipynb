{
 "cells": [
  {
   "cell_type": "code",
   "execution_count": 1,
   "id": "5d07f263",
   "metadata": {},
   "outputs": [],
   "source": [
    "import pandas as pd\n",
    "xls = pd.ExcelFile('inout1ay.xlsx')\n",
    "days=[\"Pazartesi\",\"Salı\",\"Çarşamba\",\"Perşembe\",\"Cuma\",\"Cumartesi\",\"Pazar\"]\n",
    "numbers=[\"\",\"2\",\"3\",\"4\"]\n",
    "sheets=[]\n",
    "for number in numbers:\n",
    "    for day in days:\n",
    "        sheets.append(day+number)"
   ]
  },
  {
   "cell_type": "code",
   "execution_count": 2,
   "id": "c72f01b1",
   "metadata": {},
   "outputs": [
    {
     "data": {
      "text/plain": [
       "['Pazartesi',\n",
       " 'Salı',\n",
       " 'Çarşamba',\n",
       " 'Perşembe',\n",
       " 'Cuma',\n",
       " 'Cumartesi',\n",
       " 'Pazar',\n",
       " 'Pazartesi2',\n",
       " 'Salı2',\n",
       " 'Çarşamba2',\n",
       " 'Perşembe2',\n",
       " 'Cuma2',\n",
       " 'Cumartesi2',\n",
       " 'Pazar2',\n",
       " 'Pazartesi3',\n",
       " 'Salı3',\n",
       " 'Çarşamba3',\n",
       " 'Perşembe3',\n",
       " 'Cuma3',\n",
       " 'Cumartesi3',\n",
       " 'Pazar3',\n",
       " 'Pazartesi4',\n",
       " 'Salı4',\n",
       " 'Çarşamba4',\n",
       " 'Perşembe4',\n",
       " 'Cuma4',\n",
       " 'Cumartesi4',\n",
       " 'Pazar4']"
      ]
     },
     "execution_count": 2,
     "metadata": {},
     "output_type": "execute_result"
    }
   ],
   "source": [
    "sheets"
   ]
  },
  {
   "cell_type": "code",
   "execution_count": 3,
   "id": "1bc6b7d4",
   "metadata": {},
   "outputs": [],
   "source": [
    "table_names=[]\n",
    "for i in sheets:\n",
    "    a=\"df_\"+str(i)\n",
    "    globals()[a]=pd.read_excel(xls, i)\n",
    "    table_names.append(a)"
   ]
  },
  {
   "cell_type": "code",
   "execution_count": 4,
   "id": "563d35ea",
   "metadata": {
    "scrolled": true
   },
   "outputs": [
    {
     "data": {
      "text/plain": [
       "['df_Pazartesi',\n",
       " 'df_Salı',\n",
       " 'df_Çarşamba',\n",
       " 'df_Perşembe',\n",
       " 'df_Cuma',\n",
       " 'df_Cumartesi',\n",
       " 'df_Pazar',\n",
       " 'df_Pazartesi2',\n",
       " 'df_Salı2',\n",
       " 'df_Çarşamba2',\n",
       " 'df_Perşembe2',\n",
       " 'df_Cuma2',\n",
       " 'df_Cumartesi2',\n",
       " 'df_Pazar2',\n",
       " 'df_Pazartesi3',\n",
       " 'df_Salı3',\n",
       " 'df_Çarşamba3',\n",
       " 'df_Perşembe3',\n",
       " 'df_Cuma3',\n",
       " 'df_Cumartesi3',\n",
       " 'df_Pazar3',\n",
       " 'df_Pazartesi4',\n",
       " 'df_Salı4',\n",
       " 'df_Çarşamba4',\n",
       " 'df_Perşembe4',\n",
       " 'df_Cuma4',\n",
       " 'df_Cumartesi4',\n",
       " 'df_Pazar4']"
      ]
     },
     "execution_count": 4,
     "metadata": {},
     "output_type": "execute_result"
    }
   ],
   "source": [
    "table_names"
   ]
  },
  {
   "cell_type": "code",
   "execution_count": 5,
   "id": "b94aa7ef",
   "metadata": {},
   "outputs": [],
   "source": [
    "def rename_column(df):\n",
    "    df.rename(columns={df.columns[0]:\"Hour\"\n",
    "                      ,df.columns[1]:\"In or Out\"},inplace=True)\n",
    "\n",
    "\n",
    "for i in table_names:\n",
    "    rename_column(globals()[i])\n",
    "    "
   ]
  },
  {
   "cell_type": "code",
   "execution_count": 6,
   "id": "45e1758d",
   "metadata": {},
   "outputs": [
    {
     "data": {
      "text/html": [
       "<div>\n",
       "<style scoped>\n",
       "    .dataframe tbody tr th:only-of-type {\n",
       "        vertical-align: middle;\n",
       "    }\n",
       "\n",
       "    .dataframe tbody tr th {\n",
       "        vertical-align: top;\n",
       "    }\n",
       "\n",
       "    .dataframe thead th {\n",
       "        text-align: right;\n",
       "    }\n",
       "</style>\n",
       "<table border=\"1\" class=\"dataframe\">\n",
       "  <thead>\n",
       "    <tr style=\"text-align: right;\">\n",
       "      <th></th>\n",
       "      <th>Hour</th>\n",
       "      <th>In or Out</th>\n",
       "    </tr>\n",
       "  </thead>\n",
       "  <tbody>\n",
       "    <tr>\n",
       "      <th>0</th>\n",
       "      <td>08:27:11</td>\n",
       "      <td>1</td>\n",
       "    </tr>\n",
       "    <tr>\n",
       "      <th>1</th>\n",
       "      <td>08:27:17</td>\n",
       "      <td>1</td>\n",
       "    </tr>\n",
       "    <tr>\n",
       "      <th>2</th>\n",
       "      <td>08:27:18</td>\n",
       "      <td>0</td>\n",
       "    </tr>\n",
       "    <tr>\n",
       "      <th>3</th>\n",
       "      <td>08:27:24</td>\n",
       "      <td>1</td>\n",
       "    </tr>\n",
       "    <tr>\n",
       "      <th>4</th>\n",
       "      <td>08:27:27</td>\n",
       "      <td>1</td>\n",
       "    </tr>\n",
       "    <tr>\n",
       "      <th>...</th>\n",
       "      <td>...</td>\n",
       "      <td>...</td>\n",
       "    </tr>\n",
       "    <tr>\n",
       "      <th>3503</th>\n",
       "      <td>19:32:32</td>\n",
       "      <td>0</td>\n",
       "    </tr>\n",
       "    <tr>\n",
       "      <th>3504</th>\n",
       "      <td>19:32:53</td>\n",
       "      <td>0</td>\n",
       "    </tr>\n",
       "    <tr>\n",
       "      <th>3505</th>\n",
       "      <td>19:33:00</td>\n",
       "      <td>0</td>\n",
       "    </tr>\n",
       "    <tr>\n",
       "      <th>3506</th>\n",
       "      <td>19:33:11</td>\n",
       "      <td>0</td>\n",
       "    </tr>\n",
       "    <tr>\n",
       "      <th>3507</th>\n",
       "      <td>19:33:25</td>\n",
       "      <td>1</td>\n",
       "    </tr>\n",
       "  </tbody>\n",
       "</table>\n",
       "<p>3508 rows × 2 columns</p>\n",
       "</div>"
      ],
      "text/plain": [
       "          Hour  In or Out\n",
       "0     08:27:11          1\n",
       "1     08:27:17          1\n",
       "2     08:27:18          0\n",
       "3     08:27:24          1\n",
       "4     08:27:27          1\n",
       "...        ...        ...\n",
       "3503  19:32:32          0\n",
       "3504  19:32:53          0\n",
       "3505  19:33:00          0\n",
       "3506  19:33:11          0\n",
       "3507  19:33:25          1\n",
       "\n",
       "[3508 rows x 2 columns]"
      ]
     },
     "execution_count": 6,
     "metadata": {},
     "output_type": "execute_result"
    }
   ],
   "source": [
    "df_Salı4"
   ]
  },
  {
   "cell_type": "code",
   "execution_count": 7,
   "id": "2a6609dd",
   "metadata": {},
   "outputs": [],
   "source": [
    "import numpy as np\n",
    "def change_zeros(df):\n",
    "    df[\"In or Out\"] = np.where(df[\"In or Out\"] == 0, -1, 1)\n",
    "\n",
    "    \n",
    "    \n",
    "for i in table_names:\n",
    "    change_zeros(globals()[i])\n",
    "    \n"
   ]
  },
  {
   "cell_type": "markdown",
   "id": "8e15695d",
   "metadata": {},
   "source": [
    "- Datamız düzenli hale geldi. Şimdi 1 in tekrar sayısına bakarak en çok tekrar ettiği günleri bulup o günlerin en popüler gün olduğuna karar vericez."
   ]
  },
  {
   "cell_type": "code",
   "execution_count": 8,
   "id": "299bcfdc",
   "metadata": {},
   "outputs": [],
   "source": [
    "occ=[]\n",
    "for i in table_names:\n",
    "    df_=globals()[i]\n",
    "    occ_of_one=list(df_[\"In or Out\"].value_counts())[1]   #[-1,1]\n",
    "    occ.append(occ_of_one)"
   ]
  },
  {
   "cell_type": "code",
   "execution_count": 9,
   "id": "834ba920",
   "metadata": {},
   "outputs": [
    {
     "data": {
      "text/plain": [
       "[<matplotlib.lines.Line2D at 0x1ebfe2d21c0>]"
      ]
     },
     "execution_count": 9,
     "metadata": {},
     "output_type": "execute_result"
    },
    {
     "data": {
      "image/png": "[encoded data removed]",
      "text/plain": [
       "<Figure size 432x288 with 1 Axes>"
      ]
     },
     "metadata": {
      "needs_background": "light"
     },
     "output_type": "display_data"
    }
   ],
   "source": [
    "import matplotlib.pyplot as plt\n",
    "plt.plot(list(range(1,len(table_names)+1)),occ)"
   ]
  },
  {
   "cell_type": "markdown",
   "id": "8bf1c280",
   "metadata": {},
   "source": [
    "Gördüğünüz gibi ayın 6'sı, 10'u, 13'ü ve 20'sinde gözle görülür pikler var. Bu o günlerdeki yoğunlaşmayı gösterir."
   ]
  },
  {
   "cell_type": "markdown",
   "id": "cc3b7e22",
   "metadata": {},
   "source": [
    "- Şimdi de haftanın günleri açısından bakalım."
   ]
  },
  {
   "cell_type": "code",
   "execution_count": 10,
   "id": "12a3a5a6",
   "metadata": {},
   "outputs": [
    {
     "data": {
      "text/plain": [
       "28"
      ]
     },
     "execution_count": 10,
     "metadata": {},
     "output_type": "execute_result"
    }
   ],
   "source": [
    "len(occ)"
   ]
  },
  {
   "cell_type": "code",
   "execution_count": 11,
   "id": "65e06ece",
   "metadata": {},
   "outputs": [],
   "source": [
    "pazt=occ[0]+occ[7]+occ[14]+occ[21]\n",
    "sal=occ[1]+occ[8]+occ[15]+occ[22]\n",
    "car=occ[2]+occ[9]+occ[16]+occ[23]\n",
    "per=occ[3]+occ[10]+occ[17]+occ[24]\n",
    "cum=occ[4]+occ[11]+occ[18]+occ[25]\n",
    "cmt=occ[5]+occ[12]+occ[19]+occ[26]\n",
    "pzr=occ[6]+occ[13]+occ[20]+occ[27]\n",
    "day_based=[pazt,sal,car,per,cum,cmt,pzr]"
   ]
  },
  {
   "cell_type": "code",
   "execution_count": 12,
   "id": "f4a2776d",
   "metadata": {},
   "outputs": [
    {
     "data": {
      "image/png": "[encoded data removed]",
      "text/plain": [
       "<Figure size 432x288 with 1 Axes>"
      ]
     },
     "metadata": {},
     "output_type": "display_data"
    }
   ],
   "source": [
    "plt.style.use('ggplot')\n",
    "plt.barh(days,day_based)\n",
    "plt.title('Günlere Bağlı Yoğunluk')\n",
    "plt.ylabel('Günler')\n",
    "plt.xlabel('Yoğunluk')\n",
    "plt.show()"
   ]
  },
  {
   "cell_type": "markdown",
   "id": "4e2d66b1",
   "metadata": {},
   "source": [
    "- Cumartesi günü en yoğun gün olarak görünüyor. Bu gün Cuma, Çarşamba ve Pazar günleri tarafından takip ediliyor."
   ]
  },
  {
   "cell_type": "code",
   "execution_count": 13,
   "id": "11aea511",
   "metadata": {
    "scrolled": true
   },
   "outputs": [
    {
     "data": {
      "text/plain": [
       "[<matplotlib.lines.Line2D at 0x1eb80144880>]"
      ]
     },
     "execution_count": 13,
     "metadata": {},
     "output_type": "execute_result"
    },
    {
     "data": {
      "image/png": "[encoded data removed]",
      "text/plain": [
       "<Figure size 432x288 with 1 Axes>"
      ]
     },
     "metadata": {},
     "output_type": "display_data"
    }
   ],
   "source": [
    "mean=sum(day_based)/7\n",
    "men=[]\n",
    "for i in range(7):\n",
    "    men.append(mean)\n",
    "plt.plot(days,day_based)\n",
    "plt.plot(days,men)"
   ]
  },
  {
   "cell_type": "markdown",
   "id": "5443f97e",
   "metadata": {},
   "source": [
    "- Gün bazlı ortalama yoğunluğumuz (mavi çizgi) ile genel yoğunluğumuz (kırmızı çizgi) arasındaki ilişki net bir şekilde görülüyor."
   ]
  },
  {
   "cell_type": "code",
   "execution_count": 14,
   "id": "9cbdae4c",
   "metadata": {
    "scrolled": true
   },
   "outputs": [
    {
     "data": {
      "image/png": "[encoded data removed]",
      "text/plain": [
       "<Figure size 432x288 with 1 Axes>"
      ]
     },
     "metadata": {},
     "output_type": "display_data"
    }
   ],
   "source": [
    "labels = days\n",
    "sizes = day_based\n",
    "colors = ['yellowgreen', 'gold', 'lightskyblue',\n",
    "          'lightcoral',\"red\",\"pink\",\"magenta\"]\n",
    "patches, texts = plt.pie(sizes, colors=colors, shadow=True, startangle=90)\n",
    "plt.legend(patches, labels, loc=\"best\")\n",
    "plt.title(\"Günlere Bağlı Yoğunluk\")\n",
    "plt.axis('equal')\n",
    "plt.tight_layout()\n",
    "plt.show()"
   ]
  },
  {
   "cell_type": "markdown",
   "id": "51d63ace",
   "metadata": {},
   "source": [
    "Cumartesi gününün dominansı pasta grafiğinden de gözlemleniyor."
   ]
  },
  {
   "cell_type": "code",
   "execution_count": 15,
   "id": "bb1ea9c4",
   "metadata": {},
   "outputs": [
    {
     "data": {
      "text/html": [
       "<div>\n",
       "<style scoped>\n",
       "    .dataframe tbody tr th:only-of-type {\n",
       "        vertical-align: middle;\n",
       "    }\n",
       "\n",
       "    .dataframe tbody tr th {\n",
       "        vertical-align: top;\n",
       "    }\n",
       "\n",
       "    .dataframe thead th {\n",
       "        text-align: right;\n",
       "    }\n",
       "</style>\n",
       "<table border=\"1\" class=\"dataframe\">\n",
       "  <thead>\n",
       "    <tr style=\"text-align: right;\">\n",
       "      <th></th>\n",
       "      <th>Hour</th>\n",
       "      <th>In or Out</th>\n",
       "    </tr>\n",
       "  </thead>\n",
       "  <tbody>\n",
       "    <tr>\n",
       "      <th>0</th>\n",
       "      <td>09:10:19</td>\n",
       "      <td>1</td>\n",
       "    </tr>\n",
       "    <tr>\n",
       "      <th>1</th>\n",
       "      <td>09:10:38</td>\n",
       "      <td>1</td>\n",
       "    </tr>\n",
       "    <tr>\n",
       "      <th>2</th>\n",
       "      <td>09:10:54</td>\n",
       "      <td>1</td>\n",
       "    </tr>\n",
       "    <tr>\n",
       "      <th>3</th>\n",
       "      <td>09:11:08</td>\n",
       "      <td>-1</td>\n",
       "    </tr>\n",
       "    <tr>\n",
       "      <th>4</th>\n",
       "      <td>09:11:17</td>\n",
       "      <td>1</td>\n",
       "    </tr>\n",
       "    <tr>\n",
       "      <th>...</th>\n",
       "      <td>...</td>\n",
       "      <td>...</td>\n",
       "    </tr>\n",
       "    <tr>\n",
       "      <th>3308</th>\n",
       "      <td>18:02:40</td>\n",
       "      <td>1</td>\n",
       "    </tr>\n",
       "    <tr>\n",
       "      <th>3309</th>\n",
       "      <td>18:02:47</td>\n",
       "      <td>-1</td>\n",
       "    </tr>\n",
       "    <tr>\n",
       "      <th>3310</th>\n",
       "      <td>18:03:01</td>\n",
       "      <td>-1</td>\n",
       "    </tr>\n",
       "    <tr>\n",
       "      <th>3311</th>\n",
       "      <td>18:03:17</td>\n",
       "      <td>-1</td>\n",
       "    </tr>\n",
       "    <tr>\n",
       "      <th>3312</th>\n",
       "      <td>18:03:34</td>\n",
       "      <td>1</td>\n",
       "    </tr>\n",
       "  </tbody>\n",
       "</table>\n",
       "<p>3313 rows × 2 columns</p>\n",
       "</div>"
      ],
      "text/plain": [
       "          Hour  In or Out\n",
       "0     09:10:19          1\n",
       "1     09:10:38          1\n",
       "2     09:10:54          1\n",
       "3     09:11:08         -1\n",
       "4     09:11:17          1\n",
       "...        ...        ...\n",
       "3308  18:02:40          1\n",
       "3309  18:02:47         -1\n",
       "3310  18:03:01         -1\n",
       "3311  18:03:17         -1\n",
       "3312  18:03:34          1\n",
       "\n",
       "[3313 rows x 2 columns]"
      ]
     },
     "execution_count": 15,
     "metadata": {},
     "output_type": "execute_result"
    }
   ],
   "source": [
    "df_Pazartesi"
   ]
  },
  {
   "cell_type": "code",
   "execution_count": 16,
   "id": "07f9e52e",
   "metadata": {},
   "outputs": [],
   "source": [
    "def norm(df):\n",
    "    df[\"Hour\"]=df[\"Hour\"].astype(\"str\").str[:2]\n",
    "    \n",
    "    \n",
    "    \n",
    "for i in table_names:\n",
    "    norm(globals()[i])\n",
    "    "
   ]
  },
  {
   "cell_type": "code",
   "execution_count": 17,
   "id": "f6ccd3de",
   "metadata": {},
   "outputs": [
    {
     "data": {
      "text/html": [
       "<div>\n",
       "<style scoped>\n",
       "    .dataframe tbody tr th:only-of-type {\n",
       "        vertical-align: middle;\n",
       "    }\n",
       "\n",
       "    .dataframe tbody tr th {\n",
       "        vertical-align: top;\n",
       "    }\n",
       "\n",
       "    .dataframe thead th {\n",
       "        text-align: right;\n",
       "    }\n",
       "</style>\n",
       "<table border=\"1\" class=\"dataframe\">\n",
       "  <thead>\n",
       "    <tr style=\"text-align: right;\">\n",
       "      <th></th>\n",
       "      <th>In or Out</th>\n",
       "    </tr>\n",
       "    <tr>\n",
       "      <th>Hour</th>\n",
       "      <th></th>\n",
       "    </tr>\n",
       "  </thead>\n",
       "  <tbody>\n",
       "    <tr>\n",
       "      <th>09</th>\n",
       "      <td>8</td>\n",
       "    </tr>\n",
       "    <tr>\n",
       "      <th>10</th>\n",
       "      <td>3</td>\n",
       "    </tr>\n",
       "    <tr>\n",
       "      <th>11</th>\n",
       "      <td>-26</td>\n",
       "    </tr>\n",
       "    <tr>\n",
       "      <th>12</th>\n",
       "      <td>-6</td>\n",
       "    </tr>\n",
       "    <tr>\n",
       "      <th>13</th>\n",
       "      <td>23</td>\n",
       "    </tr>\n",
       "    <tr>\n",
       "      <th>14</th>\n",
       "      <td>-3</td>\n",
       "    </tr>\n",
       "    <tr>\n",
       "      <th>15</th>\n",
       "      <td>5</td>\n",
       "    </tr>\n",
       "    <tr>\n",
       "      <th>16</th>\n",
       "      <td>-7</td>\n",
       "    </tr>\n",
       "    <tr>\n",
       "      <th>17</th>\n",
       "      <td>-4</td>\n",
       "    </tr>\n",
       "    <tr>\n",
       "      <th>18</th>\n",
       "      <td>2</td>\n",
       "    </tr>\n",
       "  </tbody>\n",
       "</table>\n",
       "</div>"
      ],
      "text/plain": [
       "      In or Out\n",
       "Hour           \n",
       "09            8\n",
       "10            3\n",
       "11          -26\n",
       "12           -6\n",
       "13           23\n",
       "14           -3\n",
       "15            5\n",
       "16           -7\n",
       "17           -4\n",
       "18            2"
      ]
     },
     "execution_count": 17,
     "metadata": {},
     "output_type": "execute_result"
    }
   ],
   "source": [
    "for i in table_names:\n",
    "    globals()[i]=globals()[i].groupby(\"Hour\").sum()\n",
    "    \n",
    "df_Pazartesi"
   ]
  },
  {
   "cell_type": "code",
   "execution_count": 18,
   "id": "824e7502",
   "metadata": {},
   "outputs": [],
   "source": [
    "df = pd.concat([df_Pazartesi, df_Pazartesi2,df_Pazartesi3,\n",
    "               df_Pazartesi4,df_Salı,df_Salı2,df_Salı3,df_Salı4,\n",
    "            df_Çarşamba,df_Çarşamba2,df_Çarşamba3,df_Çarşamba4,\n",
    "               df_Perşembe,df_Perşembe2,df_Perşembe3,df_Perşembe4,\n",
    "               df_Cuma,df_Cuma2,df_Cuma3,df_Cuma4,\n",
    "               df_Cumartesi,df_Cumartesi2,df_Cumartesi3,df_Cumartesi4,\n",
    "                df_Pazar,df_Pazar2,df_Pazar3,df_Pazar4,\n",
    "               ]).groupby('Hour')[\"In or Out\"].sum().reset_index()"
   ]
  },
  {
   "cell_type": "code",
   "execution_count": 21,
   "id": "3b743930",
   "metadata": {},
   "outputs": [],
   "source": [
    "df[\"In or Out\"]=df[\"In or Out\"]+180"
   ]
  },
  {
   "cell_type": "code",
   "execution_count": 23,
   "id": "c9f3d782",
   "metadata": {},
   "outputs": [
    {
     "data": {
      "text/plain": [
       "Text(0.5, 1.0, 'Saatlik Yoğunluk')"
      ]
     },
     "execution_count": 23,
     "metadata": {},
     "output_type": "execute_result"
    },
    {
     "data": {
      "image/png": "[encoded data removed]",
      "text/plain": [
       "<Figure size 432x288 with 1 Axes>"
      ]
     },
     "metadata": {},
     "output_type": "display_data"
    }
   ],
   "source": [
    "plt.bar(df[\"Hour\"],df[\"In or Out\"])\n",
    "plt.ylim(0,500)\n",
    "plt.title(\"Saatlik Yoğunluk\")"
   ]
  },
  {
   "cell_type": "code",
   "execution_count": 25,
   "id": "eec05f8a",
   "metadata": {
    "scrolled": true
   },
   "outputs": [
    {
     "data": {
      "text/plain": [
       "(0.0, 500.0)"
      ]
     },
     "execution_count": 25,
     "metadata": {},
     "output_type": "execute_result"
    },
    {
     "data": {
      "image/png": "[encoded data removed]",
      "text/plain": [
       "<Figure size 432x288 with 1 Axes>"
      ]
     },
     "metadata": {},
     "output_type": "display_data"
    }
   ],
   "source": [
    "plt.plot(df[\"Hour\"],df[\"In or Out\"])\n",
    "plt.title(\"Saatlik Yoğunluk\")\n",
    "plt.ylim(0,500)"
   ]
  },
  {
   "cell_type": "markdown",
   "id": "a8228127",
   "metadata": {},
   "source": [
    "- Grafiklerden anlaşılacağı üzere saat 11, 13, 18 civarları en yoğun saatler iken 10, 12 ve 15 civarlarında yoğunlukta ciddi bir düşüş görülmektedir."
   ]
  },
  {
   "cell_type": "code",
   "execution_count": 26,
   "id": "e0edc4a4",
   "metadata": {},
   "outputs": [],
   "source": [
    "mean=[]\n",
    "for i in range(15):\n",
    "    mean.append(int(df[\"In or Out\"].mean()))\n",
    "\n",
    "mean=pd.DataFrame(mean)\n",
    "df[\"Mean\"]=mean"
   ]
  },
  {
   "cell_type": "code",
   "execution_count": 27,
   "id": "5f2d8095",
   "metadata": {},
   "outputs": [
    {
     "data": {
      "text/plain": [
       "[<matplotlib.lines.Line2D at 0x1ebfbe1b640>]"
      ]
     },
     "execution_count": 27,
     "metadata": {},
     "output_type": "execute_result"
    },
    {
     "data": {
      "image/png": "[encoded data removed]",
      "text/plain": [
       "<Figure size 432x288 with 1 Axes>"
      ]
     },
     "metadata": {},
     "output_type": "display_data"
    }
   ],
   "source": [
    "plt.plot(df.Hour,df[\"Mean\"])\n",
    "plt.plot(df.Hour,df[\"In or Out\"])"
   ]
  },
  {
   "cell_type": "markdown",
   "id": "9547ba82",
   "metadata": {},
   "source": [
    "- Görüldüğü gibi ortalama yoğunluğumuz 18 civarı(kırmızı çizgi) mavi grafik ise saatlere göre yoğunluğu göstermektedir."
   ]
  },
  {
   "cell_type": "code",
   "execution_count": null,
   "id": "7394a1ca",
   "metadata": {},
   "outputs": [],
   "source": []
  }
 ],
 "metadata": {
  "kernelspec": {
   "display_name": "Python 3",
   "language": "python",
   "name": "python3"
  },
  "language_info": {
   "codemirror_mode": {
    "name": "ipython",
    "version": 3
   },
   "file_extension": ".py",
   "mimetype": "text/x-python",
   "name": "python",
   "nbconvert_exporter": "python",
   "pygments_lexer": "ipython3",
   "version": "3.8.13"
  }
 },
 "nbformat": 4,
 "nbformat_minor": 5
}
