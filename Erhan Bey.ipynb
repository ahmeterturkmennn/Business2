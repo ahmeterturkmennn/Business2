{
 "cells": [
  {
   "cell_type": "code",
   "execution_count": 128,
   "id": "aad9c847",
   "metadata": {},
   "outputs": [],
   "source": [
    "import pandas as pd\n",
    "xls = pd.ExcelFile('inout1ay.xlsx')\n",
    "days=[\"Pazartesi\",\"Salı\",\"Çarşamba\",\"Perşembe\",\"Cuma\",\"Cumartesi\",\"Pazar\"]\n",
    "numbers=[\"\",\"2\",\"3\",\"4\"]\n",
    "sheets=[]\n",
    "for number in numbers:\n",
    "    for day in days:\n",
    "        sheets.append(day+number)"
   ]
  },
  {
   "cell_type": "code",
   "execution_count": 129,
   "id": "18ce1c4a",
   "metadata": {},
   "outputs": [
    {
     "data": {
      "text/plain": [
       "['Pazartesi',\n",
       " 'Salı',\n",
       " 'Çarşamba',\n",
       " 'Perşembe',\n",
       " 'Cuma',\n",
       " 'Cumartesi',\n",
       " 'Pazar',\n",
       " 'Pazartesi2',\n",
       " 'Salı2',\n",
       " 'Çarşamba2',\n",
       " 'Perşembe2',\n",
       " 'Cuma2',\n",
       " 'Cumartesi2',\n",
       " 'Pazar2',\n",
       " 'Pazartesi3',\n",
       " 'Salı3',\n",
       " 'Çarşamba3',\n",
       " 'Perşembe3',\n",
       " 'Cuma3',\n",
       " 'Cumartesi3',\n",
       " 'Pazar3',\n",
       " 'Pazartesi4',\n",
       " 'Salı4',\n",
       " 'Çarşamba4',\n",
       " 'Perşembe4',\n",
       " 'Cuma4',\n",
       " 'Cumartesi4',\n",
       " 'Pazar4']"
      ]
     },
     "execution_count": 129,
     "metadata": {},
     "output_type": "execute_result"
    }
   ],
   "source": [
    "sheets"
   ]
  },
  {
   "cell_type": "code",
   "execution_count": 130,
   "id": "6fefcaa1",
   "metadata": {},
   "outputs": [],
   "source": [
    "table_names=[]\n",
    "for i in sheets:\n",
    "    a=\"df_\"+str(i)\n",
    "    globals()[a]=pd.read_excel(xls, i)\n",
    "    table_names.append(a)"
   ]
  },
  {
   "cell_type": "code",
   "execution_count": 131,
   "id": "71b52e90",
   "metadata": {
    "scrolled": true
   },
   "outputs": [
    {
     "data": {
      "text/plain": [
       "['df_Pazartesi',\n",
       " 'df_Salı',\n",
       " 'df_Çarşamba',\n",
       " 'df_Perşembe',\n",
       " 'df_Cuma',\n",
       " 'df_Cumartesi',\n",
       " 'df_Pazar',\n",
       " 'df_Pazartesi2',\n",
       " 'df_Salı2',\n",
       " 'df_Çarşamba2',\n",
       " 'df_Perşembe2',\n",
       " 'df_Cuma2',\n",
       " 'df_Cumartesi2',\n",
       " 'df_Pazar2',\n",
       " 'df_Pazartesi3',\n",
       " 'df_Salı3',\n",
       " 'df_Çarşamba3',\n",
       " 'df_Perşembe3',\n",
       " 'df_Cuma3',\n",
       " 'df_Cumartesi3',\n",
       " 'df_Pazar3',\n",
       " 'df_Pazartesi4',\n",
       " 'df_Salı4',\n",
       " 'df_Çarşamba4',\n",
       " 'df_Perşembe4',\n",
       " 'df_Cuma4',\n",
       " 'df_Cumartesi4',\n",
       " 'df_Pazar4']"
      ]
     },
     "execution_count": 131,
     "metadata": {},
     "output_type": "execute_result"
    }
   ],
   "source": [
    "table_names"
   ]
  },
  {
   "cell_type": "code",
   "execution_count": 132,
   "id": "6b0e416f",
   "metadata": {},
   "outputs": [],
   "source": [
    "def rename_column(df):\n",
    "    df.rename(columns={df.columns[0]:\"Hour\"\n",
    "                      ,df.columns[1]:\"In or Out\"},inplace=True)\n",
    "\n",
    "\n",
    "for i in table_names:\n",
    "    rename_column(globals()[i])\n",
    "    "
   ]
  },
  {
   "cell_type": "code",
   "execution_count": 133,
   "id": "96888dde",
   "metadata": {},
   "outputs": [
    {
     "data": {
      "text/html": [
       "<div>\n",
       "<style scoped>\n",
       "    .dataframe tbody tr th:only-of-type {\n",
       "        vertical-align: middle;\n",
       "    }\n",
       "\n",
       "    .dataframe tbody tr th {\n",
       "        vertical-align: top;\n",
       "    }\n",
       "\n",
       "    .dataframe thead th {\n",
       "        text-align: right;\n",
       "    }\n",
       "</style>\n",
       "<table border=\"1\" class=\"dataframe\">\n",
       "  <thead>\n",
       "    <tr style=\"text-align: right;\">\n",
       "      <th></th>\n",
       "      <th>Hour</th>\n",
       "      <th>In or Out</th>\n",
       "    </tr>\n",
       "  </thead>\n",
       "  <tbody>\n",
       "    <tr>\n",
       "      <th>0</th>\n",
       "      <td>08:27:11</td>\n",
       "      <td>1</td>\n",
       "    </tr>\n",
       "    <tr>\n",
       "      <th>1</th>\n",
       "      <td>08:27:17</td>\n",
       "      <td>1</td>\n",
       "    </tr>\n",
       "    <tr>\n",
       "      <th>2</th>\n",
       "      <td>08:27:18</td>\n",
       "      <td>0</td>\n",
       "    </tr>\n",
       "    <tr>\n",
       "      <th>3</th>\n",
       "      <td>08:27:24</td>\n",
       "      <td>1</td>\n",
       "    </tr>\n",
       "    <tr>\n",
       "      <th>4</th>\n",
       "      <td>08:27:27</td>\n",
       "      <td>1</td>\n",
       "    </tr>\n",
       "    <tr>\n",
       "      <th>...</th>\n",
       "      <td>...</td>\n",
       "      <td>...</td>\n",
       "    </tr>\n",
       "    <tr>\n",
       "      <th>3503</th>\n",
       "      <td>19:32:32</td>\n",
       "      <td>0</td>\n",
       "    </tr>\n",
       "    <tr>\n",
       "      <th>3504</th>\n",
       "      <td>19:32:53</td>\n",
       "      <td>0</td>\n",
       "    </tr>\n",
       "    <tr>\n",
       "      <th>3505</th>\n",
       "      <td>19:33:00</td>\n",
       "      <td>0</td>\n",
       "    </tr>\n",
       "    <tr>\n",
       "      <th>3506</th>\n",
       "      <td>19:33:11</td>\n",
       "      <td>0</td>\n",
       "    </tr>\n",
       "    <tr>\n",
       "      <th>3507</th>\n",
       "      <td>19:33:25</td>\n",
       "      <td>1</td>\n",
       "    </tr>\n",
       "  </tbody>\n",
       "</table>\n",
       "<p>3508 rows × 2 columns</p>\n",
       "</div>"
      ],
      "text/plain": [
       "          Hour  In or Out\n",
       "0     08:27:11          1\n",
       "1     08:27:17          1\n",
       "2     08:27:18          0\n",
       "3     08:27:24          1\n",
       "4     08:27:27          1\n",
       "...        ...        ...\n",
       "3503  19:32:32          0\n",
       "3504  19:32:53          0\n",
       "3505  19:33:00          0\n",
       "3506  19:33:11          0\n",
       "3507  19:33:25          1\n",
       "\n",
       "[3508 rows x 2 columns]"
      ]
     },
     "execution_count": 133,
     "metadata": {},
     "output_type": "execute_result"
    }
   ],
   "source": [
    "df_Salı4"
   ]
  },
  {
   "cell_type": "code",
   "execution_count": 134,
   "id": "2bf5ea85",
   "metadata": {},
   "outputs": [],
   "source": [
    "def change_zeros(df):\n",
    "    df[\"In or Out\"] = np.where(df[\"In or Out\"] == 0, -1, 1)\n",
    "\n",
    "    \n",
    "    \n",
    "for i in table_names:\n",
    "    change_zeros(globals()[i])\n",
    "    \n"
   ]
  },
  {
   "cell_type": "markdown",
   "id": "5306f56f",
   "metadata": {},
   "source": [
    "- Datamız düzenli hale geldi. Şimdi 1 in tekrar sayısına bakarak en çok tekrar ettiği günleri bulup o günlerin en popüler gün olduğuna karar vericez."
   ]
  },
  {
   "cell_type": "code",
   "execution_count": 135,
   "id": "b800d8f6",
   "metadata": {},
   "outputs": [],
   "source": [
    "occ=[]\n",
    "for i in table_names:\n",
    "    df_=globals()[i]\n",
    "    occ_of_one=list(df_[\"In or Out\"].value_counts())[1]   #[-1,1]\n",
    "    occ.append(occ_of_one)"
   ]
  },
  {
   "cell_type": "code",
   "execution_count": 136,
   "id": "33ba9400",
   "metadata": {},
   "outputs": [
    {
     "data": {
      "text/plain": [
       "[<matplotlib.lines.Line2D at 0x22687ce0df0>]"
      ]
     },
     "execution_count": 136,
     "metadata": {},
     "output_type": "execute_result"
    },
    {
     "data": {
      "image/png": "[encoded data removed]",
      "text/plain": [
       "<Figure size 432x288 with 1 Axes>"
      ]
     },
     "metadata": {
      "needs_background": "light"
     },
     "output_type": "display_data"
    }
   ],
   "source": [
    "import matplotlib.pyplot as plt\n",
    "plt.plot(list(range(1,len(table_names)+1)),occ)"
   ]
  },
  {
   "cell_type": "markdown",
   "id": "9429f9bc",
   "metadata": {},
   "source": [
    "Gördüğünüz gibi ayın 6'sı, 10'u, 13'ü ve 20'sinde gözle görülür pikler var. Bu o günlerdeki yoğunlaşmayı gösterir."
   ]
  },
  {
   "cell_type": "markdown",
   "id": "c69db7d1",
   "metadata": {},
   "source": [
    "- Şimdi de haftanın günleri açısından bakalım."
   ]
  },
  {
   "cell_type": "code",
   "execution_count": 145,
   "id": "30e196fa",
   "metadata": {},
   "outputs": [
    {
     "data": {
      "text/plain": [
       "28"
      ]
     },
     "execution_count": 145,
     "metadata": {},
     "output_type": "execute_result"
    }
   ],
   "source": [
    "len(occ)"
   ]
  },
  {
   "cell_type": "code",
   "execution_count": 147,
   "id": "09ba2e61",
   "metadata": {},
   "outputs": [],
   "source": [
    "pazt=occ[0]+occ[7]+occ[14]+occ[21]\n",
    "sal=occ[1]+occ[8]+occ[15]+occ[22]\n",
    "car=occ[2]+occ[9]+occ[16]+occ[23]\n",
    "per=occ[3]+occ[10]+occ[17]+occ[24]\n",
    "cum=occ[4]+occ[11]+occ[18]+occ[25]\n",
    "cmt=occ[5]+occ[12]+occ[19]+occ[26]\n",
    "pzr=occ[6]+occ[13]+occ[20]+occ[27]\n",
    "day_based=[pazt,sal,car,per,cum,cmt,pzr]"
   ]
  },
  {
   "cell_type": "code",
   "execution_count": 155,
   "id": "088689a9",
   "metadata": {},
   "outputs": [
    {
     "data": {
      "image/png": "[encoded data removed]",
      "text/plain": [
       "<Figure size 432x288 with 1 Axes>"
      ]
     },
     "metadata": {},
     "output_type": "display_data"
    }
   ],
   "source": [
    "plt.style.use('ggplot')\n",
    "plt.barh(days,day_based)\n",
    "plt.title('Günlere Bağlı Yoğunluk')\n",
    "plt.ylabel('Günler')\n",
    "plt.xlabel('Yoğunluk')\n",
    "plt.show()"
   ]
  },
  {
   "cell_type": "markdown",
   "id": "e42182a2",
   "metadata": {},
   "source": [
    "- Cumartesi günü en yğun gün olarak görünüyor. Bu gün Cuma, Çarşamba ve Pazar günleri tarafından takip ediliyor."
   ]
  },
  {
   "cell_type": "code",
   "execution_count": 164,
   "id": "a6ff1a1d",
   "metadata": {},
   "outputs": [
    {
     "data": {
      "image/png": "[encoded data removed]",
      "text/plain": [
       "<Figure size 432x288 with 1 Axes>"
      ]
     },
     "metadata": {},
     "output_type": "display_data"
    }
   ],
   "source": [
    "labels = days\n",
    "sizes = day_based\n",
    "colors = ['yellowgreen', 'gold', 'lightskyblue',\n",
    "          'lightcoral',\"red\",\"pink\",\"magenta\"]\n",
    "patches, texts = plt.pie(sizes, colors=colors, shadow=True, startangle=90)\n",
    "plt.legend(patches, labels, loc=\"best\")\n",
    "plt.title(\"Günlere Bağlı Yoğunluk\")\n",
    "plt.axis('equal')\n",
    "plt.tight_layout()\n",
    "plt.show()"
   ]
  },
  {
   "cell_type": "markdown",
   "id": "beff56f0",
   "metadata": {},
   "source": [
    "Cumartesi gününün "
   ]
  }
 ],
 "metadata": {
  "kernelspec": {
   "display_name": "Python 3",
   "language": "python",
   "name": "python3"
  },
  "language_info": {
   "codemirror_mode": {
    "name": "ipython",
    "version": 3
   },
   "file_extension": ".py",
   "mimetype": "text/x-python",
   "name": "python",
   "nbconvert_exporter": "python",
   "pygments_lexer": "ipython3",
   "version": "3.8.13"
  }
 },
 "nbformat": 4,
 "nbformat_minor": 5
}
